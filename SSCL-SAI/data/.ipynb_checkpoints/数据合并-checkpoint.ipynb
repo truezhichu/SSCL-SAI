{
 "cells": [
  {
   "cell_type": "code",
   "execution_count": 34,
   "id": "bae4c563-cd1c-45c1-af96-7d45ba03a7f0",
   "metadata": {},
   "outputs": [
    {
     "ename": "ModuleNotFoundError",
     "evalue": "No module named 'preprocess'",
     "output_type": "error",
     "traceback": [
      "\u001b[1;31m---------------------------------------------------------------------------\u001b[0m",
      "\u001b[1;31mModuleNotFoundError\u001b[0m                       Traceback (most recent call last)",
      "\u001b[1;32m~\\AppData\\Local\\Temp/ipykernel_24928/1456486598.py\u001b[0m in \u001b[0;36m<module>\u001b[1;34m\u001b[0m\n\u001b[0;32m      2\u001b[0m \u001b[1;32mimport\u001b[0m \u001b[0mpandas\u001b[0m \u001b[1;32mas\u001b[0m \u001b[0mpd\u001b[0m\u001b[1;33m\u001b[0m\u001b[1;33m\u001b[0m\u001b[0m\n\u001b[0;32m      3\u001b[0m \u001b[1;32mimport\u001b[0m \u001b[0mjson\u001b[0m\u001b[1;33m\u001b[0m\u001b[1;33m\u001b[0m\u001b[0m\n\u001b[1;32m----> 4\u001b[1;33m \u001b[1;32mfrom\u001b[0m \u001b[0mpreprocess\u001b[0m \u001b[1;32mimport\u001b[0m \u001b[0mpreprocess_chinese\u001b[0m\u001b[1;33m\u001b[0m\u001b[1;33m\u001b[0m\u001b[0m\n\u001b[0m",
      "\u001b[1;31mModuleNotFoundError\u001b[0m: No module named 'preprocess'"
     ]
    }
   ],
   "source": [
    "import os\n",
    "import pandas as pd\n",
    "import json\n",
    "from preprocess import preprocess_chinese"
   ]
  },
  {
   "cell_type": "code",
   "execution_count": null,
   "id": "3d23d711-a1ba-4381-8cab-ebd02e1686fd",
   "metadata": {},
   "outputs": [],
   "source": [
    "def create_nontokenize_txt():\n",
    "    def __init__(self):\n",
    "        self.product_ids = None\n",
    "        self.df_ids = None\n",
    "        self.df_list = None\n",
    "    \n",
    "    def _get_ids(self):\n",
    "        product_ids = []\n",
    "        product_ids_path = '../爬虫及其结果/笔记本id.txt'\n",
    "        with open(product_ids_path, 'r') as f:\n",
    "            for line in f:\n",
    "                product_ids += line.split(', ')[:5]\n",
    "        self.product_ids = product_ids\n",
    "        return product_ids\n",
    "    \n",
    "    def _read_data(self):\n",
    "        df_list = []\n",
    "        file_path = '../爬虫及其结果'\n",
    "        df_ids = []\n",
    "        for p_id in product_ids:\n",
    "            try:\n",
    "                result_path = os.path.join(file_path, p_id + '.xlsx')\n",
    "                p_df = pd.read_excel(result_path)\n",
    "                df_list.append(p_df)\n",
    "                df_ids.append(p_id)\n",
    "            except:\n",
    "                continue\n",
    "        df = pd.concat(df_list, keys = df_ids)\n",
    "        self.df_list = df_list\n",
    "        self.df_ids = df_ids\n",
    "        return df\n",
    "    \n",
    "    def create_csv(self, path = 'ok.csv'):\n",
    "        df = pd.concat(self.df_list, keys = self.df_ids)\n",
    "        df.to_csv(path)\n",
    "    \n",
    "    def create_txt(self, path = 'train_total.txt'):\n",
    "        if self.product_ids is None:\n",
    "            self._get_ids()\n",
    "        if self.df_ids is None or self.df_list is None:\n",
    "            self._read_data()\n",
    "        report_dict = {}\n",
    "        for i in len(self.df_list):\n",
    "            report_dict['商品id'] = self.df_ids[i]\n",
    "            report_dict['原文本'] = self.df_list[i]['内容']\n",
    "        "
   ]
  }
 ],
 "metadata": {
  "kernelspec": {
   "display_name": "Python 3 (ipykernel)",
   "language": "python",
   "name": "python3"
  },
  "language_info": {
   "codemirror_mode": {
    "name": "ipython",
    "version": 3
   },
   "file_extension": ".py",
   "mimetype": "text/x-python",
   "name": "python",
   "nbconvert_exporter": "python",
   "pygments_lexer": "ipython3",
   "version": "3.8.8"
  }
 },
 "nbformat": 4,
 "nbformat_minor": 5
}
