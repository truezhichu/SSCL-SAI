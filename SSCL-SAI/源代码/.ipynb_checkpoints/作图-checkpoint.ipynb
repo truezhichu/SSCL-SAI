{
 "cells": [
  {
   "cell_type": "code",
   "execution_count": 1,
   "id": "8adcd90d-2fe3-4330-baf4-cc42f48d1256",
   "metadata": {},
   "outputs": [],
   "source": [
    "from utils import plot_report"
   ]
  }
 ],
 "metadata": {
  "kernelspec": {
   "display_name": "Python 3",
   "language": "python",
   "name": "python3"
  },
  "language_info": {
   "codemirror_mode": {
    "name": "ipython",
    "version": 3
   },
   "file_extension": ".py",
   "mimetype": "text/x-python",
   "name": "python",
   "nbconvert_exporter": "python",
   "pygments_lexer": "ipython3",
   "version": "3.8.8"
  }
 },
 "nbformat": 4,
 "nbformat_minor": 5
}
