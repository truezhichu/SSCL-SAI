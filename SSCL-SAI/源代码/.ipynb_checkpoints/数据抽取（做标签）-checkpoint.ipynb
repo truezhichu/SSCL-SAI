{
 "cells": [
  {
   "cell_type": "code",
   "execution_count": 2,
   "id": "1b4fb020-3acb-4b56-b381-f0c4bf0a2633",
   "metadata": {},
   "outputs": [],
   "source": [
    "import os\n",
    "import random\n",
    "import pandas as pd"
   ]
  },
  {
   "cell_type": "code",
   "execution_count": 29,
   "id": "cf9cae98-0fae-4931-8120-6ec786be2b1a",
   "metadata": {},
   "outputs": [],
   "source": [
    "class make_raw_dataset():\n",
    "    def __init__(self):\n",
    "        self.df = None\n",
    "        \n",
    "    def _read_data(self, category_id):\n",
    "        folder_in = '../excel/category_(threhold-0)'\n",
    "        file_path = os.path.join(folder_in, '{}.xlsx'.format(category_id))\n",
    "        df_ = pd.read_excel(file_path)\n",
    "        return df_\n",
    "    \n",
    "    def _extract_sample(self, df_, sample_num = 170):\n",
    "        samples = []\n",
    "        if len(df_) <= sample_num:\n",
    "            for content in df_['原文本']:\n",
    "                samples.append(content)\n",
    "        else:\n",
    "            sample_ids = random.sample(range(0, len(df_)), sample_num)\n",
    "            samples = [df_['原文本'][sample_id] for sample_id in sample_ids]\n",
    "        return samples\n",
    "    \n",
    "    def make_excel(self):\n",
    "        total_samples = []\n",
    "        for c_id in range(30):\n",
    "            df_ = self._read_data(c_id)\n",
    "            samples = self._extract_sample(df_, sample_num = 170)\n",
    "            total_samples += samples\n",
    "            print('{}/{}'.format(c_id, 30), end = '\\r')\n",
    "        df = pd.DataFrame({'text': total_samples})\n",
    "        df.to_excel('data.xlsx')\n",
    "    "
   ]
  },
  {
   "cell_type": "code",
   "execution_count": 30,
   "id": "a765db84-433f-4120-b51f-df1dc615dff3",
   "metadata": {},
   "outputs": [
    {
     "name": "stdout",
     "output_type": "stream",
     "text": [
      "0/30\n",
      "1/30\n",
      "2/30\n",
      "3/30\n",
      "4/30\n",
      "5/30\n",
      "6/30\n",
      "7/30\n",
      "8/30\n",
      "9/30\n",
      "10/30\n",
      "11/30\n",
      "12/30\n",
      "13/30\n",
      "14/30\n",
      "15/30\n",
      "16/30\n",
      "17/30\n",
      "18/30\n",
      "19/30\n",
      "20/30\n",
      "21/30\n",
      "22/30\n",
      "23/30\n",
      "24/30\n",
      "25/30\n",
      "26/30\n",
      "27/30\n",
      "28/30\n",
      "29/30\n"
     ]
    }
   ],
   "source": [
    "maker = make_raw_dataset()\n",
    "maker.make_excel()"
   ]
  }
 ],
 "metadata": {
  "kernelspec": {
   "display_name": "Python 3 (ipykernel)",
   "language": "python",
   "name": "python3"
  },
  "language_info": {
   "codemirror_mode": {
    "name": "ipython",
    "version": 3
   },
   "file_extension": ".py",
   "mimetype": "text/x-python",
   "name": "python",
   "nbconvert_exporter": "python",
   "pygments_lexer": "ipython3",
   "version": "3.8.8"
  }
 },
 "nbformat": 4,
 "nbformat_minor": 5
}
